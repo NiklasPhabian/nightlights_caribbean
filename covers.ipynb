{
 "cells": [
  {
   "cell_type": "code",
   "execution_count": 1,
   "metadata": {},
   "outputs": [],
   "source": [
    "import starepandas\n",
    "import geopandas\n",
    "import pickle\n",
    "import pystare\n",
    "import matplotlib.pyplot as plt\n",
    "import datetime\n",
    "import numpy"
   ]
  },
  {
   "cell_type": "code",
   "execution_count": 2,
   "metadata": {},
   "outputs": [],
   "source": [
    "# We set level to 15 because that appears to be matching VNP02 nadir resolution \n",
    "level = 15"
   ]
  },
  {
   "cell_type": "code",
   "execution_count": 3,
   "metadata": {},
   "outputs": [],
   "source": [
    "caribbean = geopandas.read_file('study_area_fao_clean_210326.gpkg')"
   ]
  },
  {
   "cell_type": "code",
   "execution_count": null,
   "metadata": {
    "scrolled": false
   },
   "outputs": [],
   "source": [
    "caribbean = starepandas.STAREDataFrame(caribbean, add_stare=True, level=level, add_trixels=True, n_workers=60)\n",
    "\n",
    "with open('caribbean_staredf.pickle', 'wb') as f:\n",
    "    pickle.dump(caribbean, f)"
   ]
  },
  {
   "cell_type": "code",
   "execution_count": null,
   "metadata": {},
   "outputs": [],
   "source": [
    "# Or load it from pickle\n",
    "with open('caribbean_staredf.pickle', 'rb') as f:\n",
    "    caribbean = pickle.load(f)"
   ]
  },
  {
   "cell_type": "code",
   "execution_count": null,
   "metadata": {
    "scrolled": true
   },
   "outputs": [],
   "source": [
    "sids = list(caribbean['stare'])\n",
    "numpy.concatenate(sids).size"
   ]
  },
  {
   "cell_type": "markdown",
   "metadata": {},
   "source": [
    "# STARE Cover for the whole ROI"
   ]
  },
  {
   "cell_type": "code",
   "execution_count": null,
   "metadata": {
    "scrolled": true
   },
   "outputs": [],
   "source": [
    "start = datetime.datetime.now()\n",
    "cover_sids = caribbean.stare_dissolve(n_workers=10)\n",
    "print(datetime.datetime.now() - start)"
   ]
  },
  {
   "cell_type": "code",
   "execution_count": null,
   "metadata": {},
   "outputs": [],
   "source": [
    "len(sids)"
   ]
  },
  {
   "cell_type": "code",
   "execution_count": null,
   "metadata": {},
   "outputs": [],
   "source": [
    "with open('caribbean_sids_cover.pickle', 'wb') as f:\n",
    "    pickle.dump(sids, f)"
   ]
  },
  {
   "cell_type": "code",
   "execution_count": null,
   "metadata": {},
   "outputs": [],
   "source": [
    "with open('caribbean_sids_cover.pickle', 'rb') as f:\n",
    "    cover_sids = pickle.load(f)"
   ]
  },
  {
   "cell_type": "markdown",
   "metadata": {},
   "source": [
    "# Making countrywise DF"
   ]
  },
  {
   "cell_type": "markdown",
   "metadata": {},
   "source": [
    "## Simplify -> Dissolve -> STARE lookup"
   ]
  },
  {
   "cell_type": "code",
   "execution_count": null,
   "metadata": {},
   "outputs": [],
   "source": [
    "geom_simple = caribbean.simplify(0.001, preserve_topology=True)\n",
    "caribbean['geom_simple'] = geom_simple\n",
    "\n",
    "n_geom = 0\n",
    "n_simple = 0\n",
    "\n",
    "for index, row in caribbean.iterrows():\n",
    "    for p in row.geometry:\n",
    "        n_geom += len(p.exterior.coords)    \n",
    "        \n",
    "    if row.geom_simple.geom_type =='Polygon':\n",
    "        n_simple += len(row.geom_simple.exterior.coords)\n",
    "    else:\n",
    "        for p in row.geom_simple:\n",
    "            n_simple += len(p.exterior.coords)\n",
    "\n",
    "print(n_geom)\n",
    "print(n_simple)"
   ]
  },
  {
   "cell_type": "code",
   "execution_count": null,
   "metadata": {},
   "outputs": [],
   "source": [
    "caribbean.set_geometry('geom_simple', inplace=True)"
   ]
  },
  {
   "cell_type": "code",
   "execution_count": null,
   "metadata": {},
   "outputs": [],
   "source": [
    "# Just to verify if simplification is OK\n",
    "fig, ax = plt.subplots(figsize=(3,3), dpi=200)\n",
    "ax.grid(True)\n",
    "\n",
    "country = caribbean[caribbean.ADM0_NAME=='Dominica']\n",
    "country.plot(ax=ax, column='ADM1_CODE')"
   ]
  },
  {
   "cell_type": "code",
   "execution_count": null,
   "metadata": {},
   "outputs": [],
   "source": [
    "# Option a\n",
    "start = datetime.datetime.now()\n",
    "countries = caribbean.dissolve(by='ADM0_CODE')\n",
    "countries1 = starepandas.STAREDataFrame(countries, add_stare=True, level=level, add_trixels=True, n_workers=20)\n",
    "print(datetime.datetime.now() - start)"
   ]
  },
  {
   "cell_type": "code",
   "execution_count": null,
   "metadata": {
    "scrolled": true
   },
   "outputs": [],
   "source": [
    "# Option b\n",
    "start = datetime.datetime.now()\n",
    "countries2 = caribbean.stare_dissolve(by='ADM0_CODE', geom=False, n_workers=20)\n",
    "trixels = countries2.trixels(n_workers=20)\n",
    "countries2.set_trixels(trixels, inplace=True)\n",
    "print(datetime.datetime.now() - start)"
   ]
  },
  {
   "cell_type": "code",
   "execution_count": null,
   "metadata": {},
   "outputs": [],
   "source": [
    "fig, ax = plt.subplots(figsize=(5,5), dpi=200)\n",
    "ax.grid(True)\n",
    "\n",
    "countries1.plot(ax=ax, trixels=True, column='ADM0_NAME', linewidth=0.1)"
   ]
  },
  {
   "cell_type": "code",
   "execution_count": null,
   "metadata": {},
   "outputs": [],
   "source": [
    "fig, ax = plt.subplots(figsize=(5,5), dpi=200)\n",
    "ax.grid(True)\n",
    "\n",
    "countries2.plot(ax=ax, trixels=True, column='ADM0_NAME', linewidth=0.1)"
   ]
  },
  {
   "cell_type": "code",
   "execution_count": null,
   "metadata": {},
   "outputs": [],
   "source": [
    "# Simplified STARE cover\n",
    "start = datetime.datetime.now()\n",
    "cover_sids = countries1.stare_dissolve(n_workers=10)\n",
    "print(datetime.datetime.now() - start)"
   ]
  },
  {
   "cell_type": "markdown",
   "metadata": {},
   "source": [
    "# Test if granule intersects"
   ]
  },
  {
   "cell_type": "code",
   "execution_count": null,
   "metadata": {},
   "outputs": [],
   "source": [
    "path = 'data/'\n",
    "granule_trunk = 'VNP03DNB'\n",
    "\n",
    "catalogue = starepandas.folder2catalogue(path=path, \n",
    "                                         granule_trunk=granule_trunk,\n",
    "                                         granule_extension='nc')"
   ]
  },
  {
   "cell_type": "code",
   "execution_count": null,
   "metadata": {},
   "outputs": [],
   "source": [
    "#granule_cover = catalogue.iloc[0]['stare_cover']\n",
    "intersects = catalogue.stare_intersects(cover_sids)"
   ]
  }
 ],
 "metadata": {
  "kernelspec": {
   "display_name": "Python 3",
   "language": "python",
   "name": "python3"
  },
  "language_info": {
   "codemirror_mode": {
    "name": "ipython",
    "version": 3
   },
   "file_extension": ".py",
   "mimetype": "text/x-python",
   "name": "python",
   "nbconvert_exporter": "python",
   "pygments_lexer": "ipython3",
   "version": "3.6.8"
  }
 },
 "nbformat": 4,
 "nbformat_minor": 4
}
