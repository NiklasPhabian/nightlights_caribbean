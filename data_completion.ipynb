{
 "cells": [
  {
   "cell_type": "code",
   "execution_count": 397,
   "metadata": {},
   "outputs": [],
   "source": [
    "import netCDF4\n",
    "import glob\n",
    "import pandas\n",
    "import datetime\n",
    "import os"
   ]
  },
  {
   "cell_type": "code",
   "execution_count": 398,
   "metadata": {},
   "outputs": [],
   "source": [
    "folder = '/tablespace/caribbean/VJ103DNB/'"
   ]
  },
  {
   "cell_type": "code",
   "execution_count": 399,
   "metadata": {},
   "outputs": [
    {
     "name": "stdout",
     "output_type": "stream",
     "text": [
      "11263\n"
     ]
    }
   ],
   "source": [
    "files = glob.glob(folder + '*')\n",
    "files = list(filter(lambda name: '_stare' not in name, files))\n",
    "print(len(files))"
   ]
  },
  {
   "cell_type": "code",
   "execution_count": null,
   "metadata": {},
   "outputs": [],
   "source": [
    "n_day = 0\n",
    "n_night = 0\n",
    "for file in files:    \n",
    "    granule = netCDF4.Dataset(file)\n",
    "    if granule.DayNightFlag == 'Day':\n",
    "        n_day += 1\n",
    "    elif granule.DayNightFlag == 'Night':\n",
    "        n_night += 1\n",
    "    granule.close()\n",
    "\n",
    "print(n_day)\n",
    "print(n_night)"
   ]
  },
  {
   "cell_type": "markdown",
   "metadata": {},
   "source": [
    "# make catalog"
   ]
  },
  {
   "cell_type": "code",
   "execution_count": 400,
   "metadata": {},
   "outputs": [],
   "source": [
    "def make_catalog(paths):\n",
    "    rows = []\n",
    "    for path in paths:        \n",
    "        name = path.split('/')[-1]     \n",
    "        name_parts = name.split('.')\n",
    "        date = name_parts[1]\n",
    "        time = name_parts[2]    \n",
    "        timestamp = datetime.datetime.strptime(date+time, 'A%Y%j%H%M')\n",
    "        stump = date + '.' + time\n",
    "        rows.append({'name': name, 'path':path, 'stump': stump, 'timestamp': timestamp, 'date': date, 'time': time})    \n",
    "    return pandas.DataFrame(rows)"
   ]
  },
  {
   "cell_type": "markdown",
   "metadata": {},
   "source": [
    "# NOAA20"
   ]
  },
  {
   "cell_type": "markdown",
   "metadata": {},
   "source": [
    "## DNB"
   ]
  },
  {
   "cell_type": "code",
   "execution_count": 401,
   "metadata": {},
   "outputs": [],
   "source": [
    "folder = '/tablespace/caribbean/VJ103DNB/'\n",
    "files = glob.glob(folder + '*')\n",
    "files = list(filter(lambda name: '_stare' not in name, files))\n",
    "\n",
    "vj103dnb = make_catalog(files)"
   ]
  },
  {
   "cell_type": "code",
   "execution_count": 402,
   "metadata": {},
   "outputs": [],
   "source": [
    "folder = '/tablespace/caribbean/VJ102DNB/'\n",
    "files = glob.glob(folder + '*')\n",
    "files = list(filter(lambda name: '_stare' not in name, files))\n",
    "\n",
    "vj102dnb = make_catalog(files)"
   ]
  },
  {
   "cell_type": "code",
   "execution_count": 403,
   "metadata": {},
   "outputs": [
    {
     "name": "stdout",
     "output_type": "stream",
     "text": [
      "0\n",
      "0\n",
      "2018-02-17 05:00:00\n",
      "2018-02-17 05:00:00\n",
      "2021-04-13 20:06:00\n",
      "2021-04-13 20:06:00\n"
     ]
    }
   ],
   "source": [
    "print(len(set(vj102dnb['stump'])-set(vj103dnb['stump'])))\n",
    "print(len(set(vj103dnb['stump'])-set(vj102dnb['stump'])))\n",
    "\n",
    "print(vj103dnb['timestamp'].min())\n",
    "print(vj102dnb['timestamp'].min())\n",
    "\n",
    "print(vj103dnb['timestamp'].max())\n",
    "print(vj102dnb['timestamp'].max())"
   ]
  },
  {
   "cell_type": "markdown",
   "metadata": {},
   "source": [
    "### sidecars"
   ]
  },
  {
   "cell_type": "code",
   "execution_count": 404,
   "metadata": {},
   "outputs": [],
   "source": [
    "folder = '/tablespace/caribbean/VJ103DNB/'\n",
    "files = glob.glob(folder + '*')\n",
    "files = list(filter(lambda name: '_stare' in name, files))\n",
    "\n",
    "vj103dnb_stare = make_catalog(files)"
   ]
  },
  {
   "cell_type": "code",
   "execution_count": 405,
   "metadata": {
    "scrolled": true
   },
   "outputs": [
    {
     "name": "stdout",
     "output_type": "stream",
     "text": [
      "0\n",
      "259\n"
     ]
    }
   ],
   "source": [
    "print(len(set(vj103dnb_stare['stump'])-set(vj103dnb['stump'])))\n",
    "print(len(set(vj103dnb['stump'])-set(vj103dnb_stare['stump'])))"
   ]
  },
  {
   "cell_type": "code",
   "execution_count": 406,
   "metadata": {},
   "outputs": [],
   "source": [
    "bad = vj103dnb_stare.set_index('stump').loc[set(vj103dnb_stare['stump'])-set(vj103dnb['stump'])]\n",
    "for path in bad['path']:\n",
    "    os.remove(path)"
   ]
  },
  {
   "cell_type": "markdown",
   "metadata": {},
   "source": [
    "## CLDMSK"
   ]
  },
  {
   "cell_type": "code",
   "execution_count": 407,
   "metadata": {},
   "outputs": [],
   "source": [
    "folder = '/tablespace/caribbean/CLDMSK_L2_VIIRS_NOAA20/'\n",
    "files = glob.glob(folder + '*')\n",
    "files = list(filter(lambda name: '_stare' not in name, files))\n",
    "\n",
    "cldmsk_noaa20 = make_catalog(files)"
   ]
  },
  {
   "cell_type": "code",
   "execution_count": 408,
   "metadata": {},
   "outputs": [],
   "source": [
    "folder = '/tablespace/caribbean/VJ103MOD/'\n",
    "files = glob.glob(folder + '*')\n",
    "files = list(filter(lambda name: '_stare' not in name, files))\n",
    "\n",
    "vj103mod = make_catalog(files)"
   ]
  },
  {
   "cell_type": "code",
   "execution_count": 409,
   "metadata": {},
   "outputs": [
    {
     "name": "stdout",
     "output_type": "stream",
     "text": [
      "0\n",
      "0\n",
      "2018-02-17 05:00:00\n",
      "2018-02-17 05:00:00\n",
      "2021-04-13 20:06:00\n",
      "2021-04-13 20:06:00\n"
     ]
    }
   ],
   "source": [
    "print(len(set(cldmsk_noaa20['stump']) - set(vj103mod['stump'])))\n",
    "print(len(set(vj103mod['stump']) - set(cldmsk_noaa20['stump'])))\n",
    "\n",
    "print(cldmsk_noaa20['timestamp'].min())\n",
    "print(vj103mod['timestamp'].min())\n",
    "\n",
    "print(cldmsk_noaa20['timestamp'].max())\n",
    "print(vj103mod['timestamp'].max())"
   ]
  },
  {
   "cell_type": "markdown",
   "metadata": {},
   "source": [
    "### Sidecars"
   ]
  },
  {
   "cell_type": "code",
   "execution_count": 410,
   "metadata": {},
   "outputs": [],
   "source": [
    "folder = '/tablespace/caribbean/CLDMSK_L2_VIIRS_NOAA20/'\n",
    "files = glob.glob(folder + '*')\n",
    "files = list(filter(lambda name: '_stare' in name, files))\n",
    "\n",
    "cldmsk_noaa20_stare = make_catalog(files)"
   ]
  },
  {
   "cell_type": "code",
   "execution_count": 411,
   "metadata": {},
   "outputs": [
    {
     "name": "stdout",
     "output_type": "stream",
     "text": [
      "0\n",
      "452\n"
     ]
    }
   ],
   "source": [
    "print(len(set(cldmsk_noaa20_stare['stump'])-set(cldmsk_noaa20['stump'])))\n",
    "print(len(set(cldmsk_noaa20['stump'])-set(cldmsk_noaa20_stare['stump'])))"
   ]
  },
  {
   "cell_type": "markdown",
   "metadata": {},
   "source": [
    "## CLDMSK VS DNB"
   ]
  },
  {
   "cell_type": "code",
   "execution_count": 412,
   "metadata": {},
   "outputs": [
    {
     "name": "stdout",
     "output_type": "stream",
     "text": [
      "1431\n",
      "41\n"
     ]
    }
   ],
   "source": [
    "print(len(set(vj102dnb['stump'])-set(cldmsk_noaa20['stump'])))\n",
    "print(len(set(cldmsk_noaa20['stump'])-set(vj102dnb['stump'])))"
   ]
  },
  {
   "cell_type": "markdown",
   "metadata": {},
   "source": [
    "# SNPP"
   ]
  },
  {
   "cell_type": "markdown",
   "metadata": {},
   "source": [
    "## DNB"
   ]
  },
  {
   "cell_type": "code",
   "execution_count": 413,
   "metadata": {},
   "outputs": [],
   "source": [
    "folder = '/tablespace/caribbean/VNP03DNB/'\n",
    "files = glob.glob(folder + '*')\n",
    "files = list(filter(lambda name: '_stare' not in name, files))\n",
    "\n",
    "vnp03dnb = make_catalog(files)"
   ]
  },
  {
   "cell_type": "code",
   "execution_count": 414,
   "metadata": {},
   "outputs": [],
   "source": [
    "folder = '/tablespace/caribbean/VNP02DNB/'\n",
    "files = glob.glob(folder + '*')\n",
    "files = list(filter(lambda name: '_stare' not in name, files))\n",
    "\n",
    "vnp02dnb = make_catalog(files)"
   ]
  },
  {
   "cell_type": "code",
   "execution_count": 415,
   "metadata": {},
   "outputs": [
    {
     "name": "stdout",
     "output_type": "stream",
     "text": [
      "0\n",
      "0\n",
      "2012-03-01 05:06:00\n",
      "2012-03-01 05:06:00\n",
      "2021-04-13 20:48:00\n",
      "2021-04-13 20:48:00\n"
     ]
    }
   ],
   "source": [
    "print(len(set(vnp03dnb['stump'])-set(vnp02dnb['stump'])))\n",
    "print(len(set(vnp02dnb['stump'])-set(vnp03dnb['stump'])))\n",
    "\n",
    "print(vnp03dnb['timestamp'].min())\n",
    "print(vnp02dnb['timestamp'].min())\n",
    "\n",
    "print(vnp03dnb['timestamp'].max())\n",
    "print(vnp02dnb['timestamp'].max())"
   ]
  },
  {
   "cell_type": "markdown",
   "metadata": {},
   "source": [
    "### Sidecars"
   ]
  },
  {
   "cell_type": "code",
   "execution_count": 416,
   "metadata": {},
   "outputs": [],
   "source": [
    "folder = '/tablespace/caribbean/VNP03DNB/'\n",
    "files = glob.glob(folder + '*')\n",
    "files = list(filter(lambda name: '_stare' in name, files))\n",
    "\n",
    "vnp03_stare = make_catalog(files)"
   ]
  },
  {
   "cell_type": "code",
   "execution_count": 417,
   "metadata": {},
   "outputs": [
    {
     "name": "stdout",
     "output_type": "stream",
     "text": [
      "0\n",
      "309\n"
     ]
    }
   ],
   "source": [
    "print(len(set(vnp03_stare['stump'])-set(vnp03dnb['stump'])))\n",
    "print(len(set(vnp03dnb['stump'])-set(vnp03_stare['stump'])))"
   ]
  },
  {
   "cell_type": "markdown",
   "metadata": {},
   "source": [
    "# CLDMSK"
   ]
  },
  {
   "cell_type": "code",
   "execution_count": 418,
   "metadata": {},
   "outputs": [],
   "source": [
    "folder = '/tablespace/caribbean/CLDMSK_L2_VIIRS_SNPP/'\n",
    "files = glob.glob(folder + '*')\n",
    "files = list(filter(lambda name: '_stare' not in name, files))\n",
    "\n",
    "cldmsk_snpp = make_catalog(files)"
   ]
  },
  {
   "cell_type": "code",
   "execution_count": 419,
   "metadata": {},
   "outputs": [],
   "source": [
    "folder = '/tablespace/caribbean/VNP03MOD/'\n",
    "files = glob.glob(folder + 'VNP03MOD' + '*')\n",
    "files = list(filter(lambda name: '_stare' not in name, files))\n",
    "\n",
    "vnp03mod = make_catalog(files)"
   ]
  },
  {
   "cell_type": "code",
   "execution_count": 420,
   "metadata": {},
   "outputs": [
    {
     "name": "stdout",
     "output_type": "stream",
     "text": [
      "0\n",
      "0\n",
      "2012-03-01 05:06:00\n",
      "2012-03-01 05:06:00\n",
      "2021-04-13 20:48:00\n",
      "2021-04-13 20:48:00\n"
     ]
    }
   ],
   "source": [
    "print(len(set(cldmsk_snpp['stump']) - set(vnp03mod['stump'])))\n",
    "print(len(set(vnp03mod['stump']) - set(cldmsk_snpp['stump'])))\n",
    "\n",
    "print(cldmsk_snpp['timestamp'].min())\n",
    "print(vnp03mod['timestamp'].min())\n",
    "\n",
    "print(cldmsk_snpp['timestamp'].max())\n",
    "print(vnp03mod['timestamp'].max())"
   ]
  },
  {
   "cell_type": "markdown",
   "metadata": {},
   "source": [
    "### Sidecars"
   ]
  },
  {
   "cell_type": "code",
   "execution_count": 421,
   "metadata": {},
   "outputs": [],
   "source": [
    "folder = '/tablespace/caribbean/CLDMSK_L2_VIIRS_SNPP/'\n",
    "files = glob.glob(folder + '*')\n",
    "files = list(filter(lambda name: '_stare' in name, files))\n",
    "\n",
    "cldmsk_snpp_stare = make_catalog(files)"
   ]
  },
  {
   "cell_type": "code",
   "execution_count": 422,
   "metadata": {},
   "outputs": [
    {
     "name": "stdout",
     "output_type": "stream",
     "text": [
      "0\n",
      "285\n"
     ]
    }
   ],
   "source": [
    "print(len(set(cldmsk_snpp_stare['stump'])-set(cldmsk_snpp['stump'])))\n",
    "print(len(set(cldmsk_snpp['stump'])-set(cldmsk_snpp_stare['stump'])))"
   ]
  },
  {
   "cell_type": "markdown",
   "metadata": {},
   "source": [
    "# Remove data"
   ]
  },
  {
   "cell_type": "code",
   "execution_count": 93,
   "metadata": {},
   "outputs": [],
   "source": [
    "folder = '/tablespace/caribbean/VJ102DNB/'\n",
    "for fname in vj102dnb[vj102dnb['timestamp'] <'2018-02-17 05:00:00'].name:    \n",
    "    os.remove(folder + fname)"
   ]
  },
  {
   "cell_type": "code",
   "execution_count": null,
   "metadata": {},
   "outputs": [],
   "source": []
  }
 ],
 "metadata": {
  "kernelspec": {
   "display_name": "Python 3",
   "language": "python",
   "name": "python3"
  },
  "language_info": {
   "codemirror_mode": {
    "name": "ipython",
    "version": 3
   },
   "file_extension": ".py",
   "mimetype": "text/x-python",
   "name": "python",
   "nbconvert_exporter": "python",
   "pygments_lexer": "ipython3",
   "version": "3.6.8"
  }
 },
 "nbformat": 4,
 "nbformat_minor": 4
}
