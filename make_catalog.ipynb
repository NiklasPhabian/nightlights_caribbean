{
 "cells": [
  {
   "cell_type": "code",
   "execution_count": 1,
   "metadata": {},
   "outputs": [],
   "source": [
    "import starepandas\n",
    "import sqlalchemy\n",
    "import geopandas\n",
    "import pystare\n",
    "import matplotlib.pyplot as plt\n",
    "import glob\n",
    "import pickle\n",
    "import pandas"
   ]
  },
  {
   "cell_type": "code",
   "execution_count": 2,
   "metadata": {},
   "outputs": [],
   "source": [
    "db_path = 'catalogs/catalog.sqlite' \n",
    "uri = 'sqlite:///{db_path}'.format(db_path=db_path)\n",
    "engine = sqlalchemy.create_engine(uri)"
   ]
  },
  {
   "cell_type": "markdown",
   "metadata": {},
   "source": [
    "# Making Catalogs"
   ]
  },
  {
   "cell_type": "markdown",
   "metadata": {},
   "source": [
    "## CLDMSK NOAA20"
   ]
  },
  {
   "cell_type": "code",
   "execution_count": 3,
   "metadata": {
    "scrolled": true
   },
   "outputs": [],
   "source": [
    "path = '/tablespace/caribbean/CLDMSK_L2_VIIRS_NOAA20/'\n",
    "granule_trunk = 'CLDMSK_L2_VIIRS'\n",
    "\n",
    "catalog_cldmsk_noaa20 = starepandas.folder2catalog(path=path, \n",
    "                                                       granule_trunk=granule_trunk,\n",
    "                                                       granule_extension='nc')\n",
    "\n",
    "catalog_cldmsk_noaa20.to_sql(name='cldmsk_noaa_20', con=engine, if_exists='replace', index=False)\n",
    "catalog_cldmsk_noaa20.to_pickle('catalogs/catalog_cldmsk_noaa20.pickle')"
   ]
  },
  {
   "cell_type": "markdown",
   "metadata": {},
   "source": [
    "## CLDMSK SNPP"
   ]
  },
  {
   "cell_type": "code",
   "execution_count": 7,
   "metadata": {},
   "outputs": [],
   "source": [
    "path = '/tablespace/caribbean/CLDMSK_L2_VIIRS_SNPP/'\n",
    "\n",
    "catalog_cldmsk_snpp = starepandas.folder2catalog(path=path, \n",
    "                                                 granule_trunk=granule_trunk,\n",
    "                                                 granule_extension='nc')\n",
    "\n",
    "catalog_cldmsk_snpp.to_sql(name='catalog_cldmsk_snpp', con=engine, if_exists='replace', index=False)\n",
    "catalog_cldmsk_snpp.to_pickle('catalogs/catalog_cldmsk_snpp.pickle')"
   ]
  },
  {
   "cell_type": "markdown",
   "metadata": {},
   "source": [
    "## VJ103DNB"
   ]
  },
  {
   "cell_type": "code",
   "execution_count": 8,
   "metadata": {},
   "outputs": [],
   "source": [
    "path = '/tablespace/caribbean/VJ103DNB/'\n",
    "granule_trunk = 'VJ103DNB'\n",
    "\n",
    "catalog_vj103 = starepandas.folder2catalog(path=path, \n",
    "                                               granule_trunk=granule_trunk,\n",
    "                                               granule_extension='nc')\n",
    "\n",
    "catalog_vj103.to_sql(name='vj103', con=engine, if_exists='replace', index=False)\n",
    "catalog_vj103.to_pickle('catalogs/catalog_vj103.pickle')"
   ]
  },
  {
   "cell_type": "markdown",
   "metadata": {},
   "source": [
    "## VNP03DNB"
   ]
  },
  {
   "cell_type": "code",
   "execution_count": 9,
   "metadata": {},
   "outputs": [],
   "source": [
    "path = '/tablespace/caribbean/VNP03DNB/'\n",
    "granule_trunk = 'VNP03DNB'\n",
    "\n",
    "catalog_vnp03 = starepandas.folder2catalog(path=path, \n",
    "                                           granule_trunk=granule_trunk,\n",
    "                                           granule_extension='nc')\n",
    "\n",
    "catalog_vnp03.to_sql(name='vj103', con=engine, if_exists='replace', index=False)\n",
    "catalog_vnp03.to_pickle('catalogs/catalog_vnp03.pickle')"
   ]
  },
  {
   "cell_type": "markdown",
   "metadata": {},
   "source": [
    "## VJ102DNB "
   ]
  },
  {
   "cell_type": "code",
   "execution_count": 11,
   "metadata": {},
   "outputs": [],
   "source": [
    "path = '/tablespace/caribbean/VJ102DNB/'\n",
    "granule_trunk = 'VJ102DNB'\n",
    "granule_extension = 'nc'\n",
    "\n",
    "term = '{path}/{granule_trunk}*[!_stare].{ext}'\n",
    "term = term.format(path=path, granule_trunk=granule_trunk, ext=granule_extension)\n",
    "granule_paths = glob.glob(term)\n",
    "\n",
    "catalog_vj102 = pandas.DataFrame()\n",
    "for granule_path in granule_paths:    \n",
    "    vnp02 = starepandas.io.file.VNP02DNB(vnp02_path=granule_path,\n",
    "                                         vnp03_folder='/tablespace/caribbean/VJ103DNB/')\n",
    "    vnp02.read_sidecar_cover()\n",
    "    vnp02.read_timestamps()    \n",
    "    \n",
    "    row = {}\n",
    "    row['granule_path'] = granule_path\n",
    "    row['companion_path'] = vnp02.vnp03.file_path\n",
    "    row['sidecar_path'] = vnp02.sidecar_path\n",
    "    row['stare_cover'] = vnp02.stare_cover\n",
    "    row['begining'] = vnp02.ts_start\n",
    "    row['ending'] = vnp02.ts_end\n",
    "    \n",
    "    catalog_vj102 = catalog_vj102.append(row, ignore_index=True)\n",
    "\n",
    "catalog_vj102 = starepandas.STAREDataFrame(catalog_vj102, stare='stare_cover')\n",
    "\n",
    "catalog_vj102.to_sql(name='vj102', con=engine, if_exists='replace', index=False)\n",
    "catalog_vj102.to_pickle('catalogs/catalog_vj102.pickle')"
   ]
  },
  {
   "cell_type": "markdown",
   "metadata": {},
   "source": [
    "## VNP02DNB"
   ]
  },
  {
   "cell_type": "code",
   "execution_count": null,
   "metadata": {},
   "outputs": [],
   "source": [
    "path = '/tablespace/caribbean/VNP02DNB/'\n",
    "granule_trunk = 'VNP02DNB'\n",
    "granule_extension = 'nc'\n",
    "\n",
    "term = '{path}/{granule_trunk}*[!_stare].{ext}'\n",
    "term = term.format(path=path, granule_trunk=granule_trunk, ext=granule_extension)\n",
    "granule_paths = glob.glob(term)\n",
    "\n",
    "catalog_vnp02 = pandas.DataFrame()\n",
    "for granule_path in granule_paths:    \n",
    "    vnp02 = starepandas.io.file.VNP02DNB(vnp02_path=granule_path,\n",
    "                                         vnp03_folder='/tablespace/caribbean/VNP03DNB/')\n",
    "    vnp02.read_sidecar_cover()\n",
    "    vnp02.read_timestamps()    \n",
    "    \n",
    "    row = {}\n",
    "    row['granule_path'] = granule_path\n",
    "    row['companion_path'] = vnp02.vnp03.file_path\n",
    "    row['sidecar_path'] = vnp02.sidecar_path\n",
    "    row['stare_cover'] = vnp02.stare_cover\n",
    "    row['begining'] = vnp02.ts_start\n",
    "    row['ending'] = vnp02.ts_end\n",
    "    \n",
    "    catalog_vnp02 = catalog_vnp02.append(row, ignore_index=True)\n",
    "\n",
    "catalog_vnp02 = starepandas.STAREDataFrame(catalog_vnp02, stare='stare_cover')\n",
    "\n",
    "catalog_vnp02.to_sql(name='vnp02', con=engine, if_exists='replace', index=False)\n",
    "catalog_vnp02.to_pickle('catalogs/catalog_vnp02.pickle')"
   ]
  },
  {
   "cell_type": "markdown",
   "metadata": {},
   "source": [
    "## Visualize"
   ]
  },
  {
   "cell_type": "code",
   "execution_count": null,
   "metadata": {},
   "outputs": [],
   "source": [
    "fig, ax = plt.subplots(figsize=(5,5), dpi=200)\n",
    "ax.grid(True)\n",
    "\n",
    "catalog_vj102[0:5].set_trixels(inplace=False).plot(ax=ax, trixels=True, column='granule_path')"
   ]
  },
  {
   "cell_type": "code",
   "execution_count": null,
   "metadata": {},
   "outputs": [],
   "source": []
  }
 ],
 "metadata": {
  "kernelspec": {
   "display_name": "Python 3",
   "language": "python",
   "name": "python3"
  },
  "language_info": {
   "codemirror_mode": {
    "name": "ipython",
    "version": 3
   },
   "file_extension": ".py",
   "mimetype": "text/x-python",
   "name": "python",
   "nbconvert_exporter": "python",
   "pygments_lexer": "ipython3",
   "version": "3.6.8"
  }
 },
 "nbformat": 4,
 "nbformat_minor": 4
}
