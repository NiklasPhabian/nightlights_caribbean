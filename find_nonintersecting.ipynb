{
 "cells": [
  {
   "cell_type": "code",
   "execution_count": 42,
   "metadata": {},
   "outputs": [],
   "source": [
    "import starepandas\n",
    "import pickle\n",
    "import sqlalchemy\n",
    "import pandas\n",
    "import numpy\n",
    "import datetime\n",
    "import time"
   ]
  },
  {
   "cell_type": "code",
   "execution_count": 16,
   "metadata": {},
   "outputs": [],
   "source": [
    "level = 10"
   ]
  },
  {
   "cell_type": "markdown",
   "metadata": {},
   "source": [
    "# Load Cover"
   ]
  },
  {
   "cell_type": "code",
   "execution_count": 17,
   "metadata": {},
   "outputs": [],
   "source": [
    "fname = 'covers/caribbean_sids_cover_l{}.pickle'.format(level)\n",
    "with open(fname, 'rb') as f:\n",
    "    cover_sids = pickle.load(f)"
   ]
  },
  {
   "cell_type": "markdown",
   "metadata": {},
   "source": [
    "# Load catalogue"
   ]
  },
  {
   "cell_type": "code",
   "execution_count": 18,
   "metadata": {
    "scrolled": false
   },
   "outputs": [],
   "source": [
    "db_path = 'catalogues/catalogue.sqlite' \n",
    "uri = 'sqlite:///{db_path}'.format(db_path=db_path)\n",
    "engine = sqlalchemy.create_engine(uri)"
   ]
  },
  {
   "cell_type": "code",
   "execution_count": 19,
   "metadata": {},
   "outputs": [],
   "source": [
    "catalogue = starepandas.read_sql_table(sql='cldmsk_noaa_20', con=engine, stare_column='stare_cover')"
   ]
  },
  {
   "cell_type": "markdown",
   "metadata": {},
   "source": [
    "# Find nonintersecting"
   ]
  },
  {
   "cell_type": "code",
   "execution_count": 20,
   "metadata": {},
   "outputs": [],
   "source": [
    "intersects = catalogue.stare_intersects(cover_sids, n_workers=50)"
   ]
  },
  {
   "cell_type": "code",
   "execution_count": 21,
   "metadata": {},
   "outputs": [
    {
     "data": {
      "text/html": [
       "<div>\n",
       "<style scoped>\n",
       "    .dataframe tbody tr th:only-of-type {\n",
       "        vertical-align: middle;\n",
       "    }\n",
       "\n",
       "    .dataframe tbody tr th {\n",
       "        vertical-align: top;\n",
       "    }\n",
       "\n",
       "    .dataframe thead th {\n",
       "        text-align: right;\n",
       "    }\n",
       "</style>\n",
       "<table border=\"1\" class=\"dataframe\">\n",
       "  <thead>\n",
       "    <tr style=\"text-align: right;\">\n",
       "      <th></th>\n",
       "      <th>begining</th>\n",
       "      <th>ending</th>\n",
       "      <th>granule_path</th>\n",
       "      <th>sidecar_path</th>\n",
       "      <th>stare_cover</th>\n",
       "    </tr>\n",
       "  </thead>\n",
       "  <tbody>\n",
       "    <tr>\n",
       "      <th>2</th>\n",
       "      <td>2018-03-27T06:42:00.000Z</td>\n",
       "      <td>2018-03-27T06:48:00.000Z</td>\n",
       "      <td>/tablespace/caribbean/CLDMSK_L2_VIIRS_NOAA20/C...</td>\n",
       "      <td>/tablespace/caribbean/CLDMSK_L2_VIIRS_NOAA20/C...</td>\n",
       "      <td>[2675138178658074627, 2693152577167556611, 266...</td>\n",
       "    </tr>\n",
       "    <tr>\n",
       "      <th>4</th>\n",
       "      <td>2019-08-28T04:24:00.000Z</td>\n",
       "      <td>2019-08-28T04:30:00.000Z</td>\n",
       "      <td>/tablespace/caribbean/CLDMSK_L2_VIIRS_NOAA20/C...</td>\n",
       "      <td>/tablespace/caribbean/CLDMSK_L2_VIIRS_NOAA20/C...</td>\n",
       "      <td>[2558044588346441731, 2494994193563254788, 249...</td>\n",
       "    </tr>\n",
       "    <tr>\n",
       "      <th>5</th>\n",
       "      <td>2020-05-23T08:48:00.000Z</td>\n",
       "      <td>2020-05-23T08:54:00.000Z</td>\n",
       "      <td>/tablespace/caribbean/CLDMSK_L2_VIIRS_NOAA20/C...</td>\n",
       "      <td>/tablespace/caribbean/CLDMSK_L2_VIIRS_NOAA20/C...</td>\n",
       "      <td>[2972375754064527363, 2981382953319268355, 292...</td>\n",
       "    </tr>\n",
       "    <tr>\n",
       "      <th>6</th>\n",
       "      <td>2019-01-06T05:42:00.000Z</td>\n",
       "      <td>2019-01-06T05:48:00.000Z</td>\n",
       "      <td>/tablespace/caribbean/CLDMSK_L2_VIIRS_NOAA20/C...</td>\n",
       "      <td>/tablespace/caribbean/CLDMSK_L2_VIIRS_NOAA20/C...</td>\n",
       "      <td>[3035426148847714307, 3602879701896396803, 244...</td>\n",
       "    </tr>\n",
       "    <tr>\n",
       "      <th>8</th>\n",
       "      <td>2019-01-28T05:30:00.000Z</td>\n",
       "      <td>2019-01-28T05:36:00.000Z</td>\n",
       "      <td>/tablespace/caribbean/CLDMSK_L2_VIIRS_NOAA20/C...</td>\n",
       "      <td>/tablespace/caribbean/CLDMSK_L2_VIIRS_NOAA20/C...</td>\n",
       "      <td>[3602879701896396803, 2449958197289549828, 245...</td>\n",
       "    </tr>\n",
       "    <tr>\n",
       "      <th>...</th>\n",
       "      <td>...</td>\n",
       "      <td>...</td>\n",
       "      <td>...</td>\n",
       "      <td>...</td>\n",
       "      <td>...</td>\n",
       "    </tr>\n",
       "    <tr>\n",
       "      <th>9284</th>\n",
       "      <td>2020-12-20T07:36:00.000Z</td>\n",
       "      <td>2020-12-20T07:42:00.000Z</td>\n",
       "      <td>/tablespace/caribbean/CLDMSK_L2_VIIRS_NOAA20/C...</td>\n",
       "      <td>/tablespace/caribbean/CLDMSK_L2_VIIRS_NOAA20/C...</td>\n",
       "      <td>[3035426148847714307, 3080462145121419267, 308...</td>\n",
       "    </tr>\n",
       "    <tr>\n",
       "      <th>9287</th>\n",
       "      <td>2019-03-14T08:24:00.000Z</td>\n",
       "      <td>2019-03-14T08:30:00.000Z</td>\n",
       "      <td>/tablespace/caribbean/CLDMSK_L2_VIIRS_NOAA20/C...</td>\n",
       "      <td>/tablespace/caribbean/CLDMSK_L2_VIIRS_NOAA20/C...</td>\n",
       "      <td>[2990390152574009347, 3017411750338232323, 292...</td>\n",
       "    </tr>\n",
       "    <tr>\n",
       "      <th>9288</th>\n",
       "      <td>2018-08-28T06:54:00.000Z</td>\n",
       "      <td>2018-08-28T07:00:00.000Z</td>\n",
       "      <td>/tablespace/caribbean/CLDMSK_L2_VIIRS_NOAA20/C...</td>\n",
       "      <td>/tablespace/caribbean/CLDMSK_L2_VIIRS_NOAA20/C...</td>\n",
       "      <td>[2675138178658074627, 2936346957045563395, 294...</td>\n",
       "    </tr>\n",
       "    <tr>\n",
       "      <th>9292</th>\n",
       "      <td>2019-07-24T08:48:00.000Z</td>\n",
       "      <td>2019-07-24T08:54:00.000Z</td>\n",
       "      <td>/tablespace/caribbean/CLDMSK_L2_VIIRS_NOAA20/C...</td>\n",
       "      <td>/tablespace/caribbean/CLDMSK_L2_VIIRS_NOAA20/C...</td>\n",
       "      <td>[2972375754064527363, 2981382953319268355, 292...</td>\n",
       "    </tr>\n",
       "    <tr>\n",
       "      <th>9295</th>\n",
       "      <td>2018-03-03T09:00:00.000Z</td>\n",
       "      <td>2018-03-03T09:06:00.000Z</td>\n",
       "      <td>/tablespace/caribbean/CLDMSK_L2_VIIRS_NOAA20/C...</td>\n",
       "      <td>/tablespace/caribbean/CLDMSK_L2_VIIRS_NOAA20/C...</td>\n",
       "      <td>[3064699546425622532, 3075958545494048772, 309...</td>\n",
       "    </tr>\n",
       "  </tbody>\n",
       "</table>\n",
       "<p>2420 rows × 5 columns</p>\n",
       "</div>"
      ],
      "text/plain": [
       "                      begining                    ending  \\\n",
       "2     2018-03-27T06:42:00.000Z  2018-03-27T06:48:00.000Z   \n",
       "4     2019-08-28T04:24:00.000Z  2019-08-28T04:30:00.000Z   \n",
       "5     2020-05-23T08:48:00.000Z  2020-05-23T08:54:00.000Z   \n",
       "6     2019-01-06T05:42:00.000Z  2019-01-06T05:48:00.000Z   \n",
       "8     2019-01-28T05:30:00.000Z  2019-01-28T05:36:00.000Z   \n",
       "...                        ...                       ...   \n",
       "9284  2020-12-20T07:36:00.000Z  2020-12-20T07:42:00.000Z   \n",
       "9287  2019-03-14T08:24:00.000Z  2019-03-14T08:30:00.000Z   \n",
       "9288  2018-08-28T06:54:00.000Z  2018-08-28T07:00:00.000Z   \n",
       "9292  2019-07-24T08:48:00.000Z  2019-07-24T08:54:00.000Z   \n",
       "9295  2018-03-03T09:00:00.000Z  2018-03-03T09:06:00.000Z   \n",
       "\n",
       "                                           granule_path  \\\n",
       "2     /tablespace/caribbean/CLDMSK_L2_VIIRS_NOAA20/C...   \n",
       "4     /tablespace/caribbean/CLDMSK_L2_VIIRS_NOAA20/C...   \n",
       "5     /tablespace/caribbean/CLDMSK_L2_VIIRS_NOAA20/C...   \n",
       "6     /tablespace/caribbean/CLDMSK_L2_VIIRS_NOAA20/C...   \n",
       "8     /tablespace/caribbean/CLDMSK_L2_VIIRS_NOAA20/C...   \n",
       "...                                                 ...   \n",
       "9284  /tablespace/caribbean/CLDMSK_L2_VIIRS_NOAA20/C...   \n",
       "9287  /tablespace/caribbean/CLDMSK_L2_VIIRS_NOAA20/C...   \n",
       "9288  /tablespace/caribbean/CLDMSK_L2_VIIRS_NOAA20/C...   \n",
       "9292  /tablespace/caribbean/CLDMSK_L2_VIIRS_NOAA20/C...   \n",
       "9295  /tablespace/caribbean/CLDMSK_L2_VIIRS_NOAA20/C...   \n",
       "\n",
       "                                           sidecar_path  \\\n",
       "2     /tablespace/caribbean/CLDMSK_L2_VIIRS_NOAA20/C...   \n",
       "4     /tablespace/caribbean/CLDMSK_L2_VIIRS_NOAA20/C...   \n",
       "5     /tablespace/caribbean/CLDMSK_L2_VIIRS_NOAA20/C...   \n",
       "6     /tablespace/caribbean/CLDMSK_L2_VIIRS_NOAA20/C...   \n",
       "8     /tablespace/caribbean/CLDMSK_L2_VIIRS_NOAA20/C...   \n",
       "...                                                 ...   \n",
       "9284  /tablespace/caribbean/CLDMSK_L2_VIIRS_NOAA20/C...   \n",
       "9287  /tablespace/caribbean/CLDMSK_L2_VIIRS_NOAA20/C...   \n",
       "9288  /tablespace/caribbean/CLDMSK_L2_VIIRS_NOAA20/C...   \n",
       "9292  /tablespace/caribbean/CLDMSK_L2_VIIRS_NOAA20/C...   \n",
       "9295  /tablespace/caribbean/CLDMSK_L2_VIIRS_NOAA20/C...   \n",
       "\n",
       "                                            stare_cover  \n",
       "2     [2675138178658074627, 2693152577167556611, 266...  \n",
       "4     [2558044588346441731, 2494994193563254788, 249...  \n",
       "5     [2972375754064527363, 2981382953319268355, 292...  \n",
       "6     [3035426148847714307, 3602879701896396803, 244...  \n",
       "8     [3602879701896396803, 2449958197289549828, 245...  \n",
       "...                                                 ...  \n",
       "9284  [3035426148847714307, 3080462145121419267, 308...  \n",
       "9287  [2990390152574009347, 3017411750338232323, 292...  \n",
       "9288  [2675138178658074627, 2936346957045563395, 294...  \n",
       "9292  [2972375754064527363, 2981382953319268355, 292...  \n",
       "9295  [3064699546425622532, 3075958545494048772, 309...  \n",
       "\n",
       "[2420 rows x 5 columns]"
      ]
     },
     "execution_count": 21,
     "metadata": {},
     "output_type": "execute_result"
    }
   ],
   "source": [
    "# Those guys dont intersect our ROI\n",
    "catalogue[intersects==False]"
   ]
  },
  {
   "cell_type": "code",
   "execution_count": 30,
   "metadata": {},
   "outputs": [],
   "source": [
    "runtime = []\n",
    "level = 10"
   ]
  },
  {
   "cell_type": "code",
   "execution_count": 31,
   "metadata": {},
   "outputs": [],
   "source": [
    "fname = 'covers/caribbean_sids_cover_l{}.pickle'.format(level)\n",
    "with open(fname, 'rb') as f:\n",
    "    cover_sids = pickle.load(f)"
   ]
  },
  {
   "cell_type": "code",
   "execution_count": 32,
   "metadata": {},
   "outputs": [],
   "source": [
    "catalogue = starepandas.read_sql_table(sql='cldmsk_noaa_20', con=engine, stare_column='stare_cover')"
   ]
  },
  {
   "cell_type": "code",
   "execution_count": 45,
   "metadata": {},
   "outputs": [
    {
     "data": {
      "text/plain": [
       "datetime.timedelta(0, 21, 787039)"
      ]
     },
     "execution_count": 45,
     "metadata": {},
     "output_type": "execute_result"
    }
   ],
   "source": [
    "start = datetime.datetime.now()\n",
    "intersects = catalogue.stare_intersects(cover_sids, n_workers=50)\n",
    "catalogue[intersects==False]\n",
    "total = datetime.datetime.now() - start\n",
    "total\n",
    "#runtime.append('Level:' + level + 'Runtime:' +  time )"
   ]
  },
  {
   "cell_type": "code",
   "execution_count": null,
   "metadata": {},
   "outputs": [],
   "source": [
    "catalogue[intersects==False]"
   ]
  },
  {
   "cell_type": "code",
   "execution_count": 34,
   "metadata": {},
   "outputs": [],
   "source": [
    "fname = 'covers/caribbean_sids_cover_l{}.pickle'\n",
    "sql='cldmsk_noaa_20'\n",
    "level = 10\n",
    "n_workers = 60"
   ]
  },
  {
   "cell_type": "code",
   "execution_count": 46,
   "metadata": {},
   "outputs": [],
   "source": [
    "def runtime(fname, sql, level, n_workers):\n",
    "    fname = fname.format(level)\n",
    "    with open(fname, 'rb') as f:\n",
    "        cover_sids = pickle.load(f)\n",
    "    catalogue = starepandas.read_sql_table(sql=sql, con=engine, stare_column='stare_cover')\n",
    "    start = time.time()\n",
    "    intersects = catalogue.stare_intersects(cover_sids, n_workers=n_workers)\n",
    "    catalogue[intersects==False]\n",
    "    #time = datetime.datetime.now() - start\n",
    "    return(level, time.time() - start)\n",
    "    #return('Level:' + level + 'Runtime:' + time)"
   ]
  },
  {
   "cell_type": "code",
   "execution_count": 54,
   "metadata": {},
   "outputs": [
    {
     "data": {
      "text/plain": [
       "(10, 20.529750108718872)"
      ]
     },
     "execution_count": 54,
     "metadata": {},
     "output_type": "execute_result"
    }
   ],
   "source": [
    "runtime(fname, sql, 10, n_workers)"
   ]
  },
  {
   "cell_type": "code",
   "execution_count": null,
   "metadata": {},
   "outputs": [],
   "source": []
  }
 ],
 "metadata": {
  "kernelspec": {
   "display_name": "Python 3",
   "language": "python",
   "name": "python3"
  },
  "language_info": {
   "codemirror_mode": {
    "name": "ipython",
    "version": 3
   },
   "file_extension": ".py",
   "mimetype": "text/x-python",
   "name": "python",
   "nbconvert_exporter": "python",
   "pygments_lexer": "ipython3",
   "version": "3.6.8"
  }
 },
 "nbformat": 4,
 "nbformat_minor": 4
}
