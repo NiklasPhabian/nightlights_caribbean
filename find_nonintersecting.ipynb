{
 "cells": [
  {
   "cell_type": "code",
   "execution_count": 6,
   "metadata": {},
   "outputs": [],
   "source": [
    "import starepandas\n",
    "import pickle\n",
    "import sqlalchemy\n",
    "import pandas\n",
    "import numpy\n",
    "import datetime\n",
    "import time\n",
    "import geopandas\n",
    "import matplotlib.pyplot as plt"
   ]
  },
  {
   "cell_type": "code",
   "execution_count": 7,
   "metadata": {},
   "outputs": [],
   "source": [
    "level = 10"
   ]
  },
  {
   "cell_type": "markdown",
   "metadata": {},
   "source": [
    "# Load Cover"
   ]
  },
  {
   "cell_type": "code",
   "execution_count": 8,
   "metadata": {},
   "outputs": [],
   "source": [
    "fname = 'covers/caribbean_sids_cover_l{}.pickle'.format(level)\n",
    "with open(fname, 'rb') as f:\n",
    "    cover_sids = pickle.load(f)"
   ]
  },
  {
   "cell_type": "markdown",
   "metadata": {},
   "source": [
    "# Load catalogue"
   ]
  },
  {
   "cell_type": "code",
   "execution_count": 9,
   "metadata": {},
   "outputs": [],
   "source": [
    "catalog = pandas.read_pickle('catalogs/cldmsk_noaa20.pickle')"
   ]
  },
  {
   "cell_type": "markdown",
   "metadata": {},
   "source": [
    "# Overlay test"
   ]
  },
  {
   "cell_type": "code",
   "execution_count": 10,
   "metadata": {},
   "outputs": [],
   "source": [
    "intersects = catalog.stare_intersects(cover_sids, n_workers=5)\n",
    "intersects.to_pickle('catalogs/cldmsk_noaa20_intersecting.pickle')"
   ]
  },
  {
   "cell_type": "markdown",
   "metadata": {},
   "source": [
    "# Find nonintersecting"
   ]
  },
  {
   "cell_type": "code",
   "execution_count": 11,
   "metadata": {},
   "outputs": [
    {
     "data": {
      "text/html": [
       "<div>\n",
       "<style scoped>\n",
       "    .dataframe tbody tr th:only-of-type {\n",
       "        vertical-align: middle;\n",
       "    }\n",
       "\n",
       "    .dataframe tbody tr th {\n",
       "        vertical-align: top;\n",
       "    }\n",
       "\n",
       "    .dataframe thead th {\n",
       "        text-align: right;\n",
       "    }\n",
       "</style>\n",
       "<table border=\"1\" class=\"dataframe\">\n",
       "  <thead>\n",
       "    <tr style=\"text-align: right;\">\n",
       "      <th></th>\n",
       "      <th>begining</th>\n",
       "      <th>ending</th>\n",
       "      <th>granule_path</th>\n",
       "      <th>sidecar_path</th>\n",
       "      <th>stare_cover</th>\n",
       "    </tr>\n",
       "  </thead>\n",
       "  <tbody>\n",
       "    <tr>\n",
       "      <th>2</th>\n",
       "      <td>2018-03-27T06:42:00.000Z</td>\n",
       "      <td>2018-03-27T06:48:00.000Z</td>\n",
       "      <td>/tablespace/caribbean/CLDMSK_L2_VIIRS_NOAA20/C...</td>\n",
       "      <td>/tablespace/caribbean/CLDMSK_L2_VIIRS_NOAA20/C...</td>\n",
       "      <td>[2675138178658074627, 2693152577167556611, 266...</td>\n",
       "    </tr>\n",
       "    <tr>\n",
       "      <th>4</th>\n",
       "      <td>2019-08-28T04:24:00.000Z</td>\n",
       "      <td>2019-08-28T04:30:00.000Z</td>\n",
       "      <td>/tablespace/caribbean/CLDMSK_L2_VIIRS_NOAA20/C...</td>\n",
       "      <td>/tablespace/caribbean/CLDMSK_L2_VIIRS_NOAA20/C...</td>\n",
       "      <td>[2558044588346441731, 2494994193563254788, 249...</td>\n",
       "    </tr>\n",
       "    <tr>\n",
       "      <th>5</th>\n",
       "      <td>2020-05-23T08:48:00.000Z</td>\n",
       "      <td>2020-05-23T08:54:00.000Z</td>\n",
       "      <td>/tablespace/caribbean/CLDMSK_L2_VIIRS_NOAA20/C...</td>\n",
       "      <td>/tablespace/caribbean/CLDMSK_L2_VIIRS_NOAA20/C...</td>\n",
       "      <td>[2972375754064527363, 2981382953319268355, 292...</td>\n",
       "    </tr>\n",
       "    <tr>\n",
       "      <th>6</th>\n",
       "      <td>2019-01-06T05:42:00.000Z</td>\n",
       "      <td>2019-01-06T05:48:00.000Z</td>\n",
       "      <td>/tablespace/caribbean/CLDMSK_L2_VIIRS_NOAA20/C...</td>\n",
       "      <td>/tablespace/caribbean/CLDMSK_L2_VIIRS_NOAA20/C...</td>\n",
       "      <td>[3035426148847714307, 3602879701896396803, 244...</td>\n",
       "    </tr>\n",
       "    <tr>\n",
       "      <th>8</th>\n",
       "      <td>2019-01-28T05:30:00.000Z</td>\n",
       "      <td>2019-01-28T05:36:00.000Z</td>\n",
       "      <td>/tablespace/caribbean/CLDMSK_L2_VIIRS_NOAA20/C...</td>\n",
       "      <td>/tablespace/caribbean/CLDMSK_L2_VIIRS_NOAA20/C...</td>\n",
       "      <td>[3602879701896396803, 2449958197289549828, 245...</td>\n",
       "    </tr>\n",
       "  </tbody>\n",
       "</table>\n",
       "</div>"
      ],
      "text/plain": [
       "                   begining                    ending  \\\n",
       "2  2018-03-27T06:42:00.000Z  2018-03-27T06:48:00.000Z   \n",
       "4  2019-08-28T04:24:00.000Z  2019-08-28T04:30:00.000Z   \n",
       "5  2020-05-23T08:48:00.000Z  2020-05-23T08:54:00.000Z   \n",
       "6  2019-01-06T05:42:00.000Z  2019-01-06T05:48:00.000Z   \n",
       "8  2019-01-28T05:30:00.000Z  2019-01-28T05:36:00.000Z   \n",
       "\n",
       "                                        granule_path  \\\n",
       "2  /tablespace/caribbean/CLDMSK_L2_VIIRS_NOAA20/C...   \n",
       "4  /tablespace/caribbean/CLDMSK_L2_VIIRS_NOAA20/C...   \n",
       "5  /tablespace/caribbean/CLDMSK_L2_VIIRS_NOAA20/C...   \n",
       "6  /tablespace/caribbean/CLDMSK_L2_VIIRS_NOAA20/C...   \n",
       "8  /tablespace/caribbean/CLDMSK_L2_VIIRS_NOAA20/C...   \n",
       "\n",
       "                                        sidecar_path  \\\n",
       "2  /tablespace/caribbean/CLDMSK_L2_VIIRS_NOAA20/C...   \n",
       "4  /tablespace/caribbean/CLDMSK_L2_VIIRS_NOAA20/C...   \n",
       "5  /tablespace/caribbean/CLDMSK_L2_VIIRS_NOAA20/C...   \n",
       "6  /tablespace/caribbean/CLDMSK_L2_VIIRS_NOAA20/C...   \n",
       "8  /tablespace/caribbean/CLDMSK_L2_VIIRS_NOAA20/C...   \n",
       "\n",
       "                                         stare_cover  \n",
       "2  [2675138178658074627, 2693152577167556611, 266...  \n",
       "4  [2558044588346441731, 2494994193563254788, 249...  \n",
       "5  [2972375754064527363, 2981382953319268355, 292...  \n",
       "6  [3035426148847714307, 3602879701896396803, 244...  \n",
       "8  [3602879701896396803, 2449958197289549828, 245...  "
      ]
     },
     "execution_count": 11,
     "metadata": {},
     "output_type": "execute_result"
    }
   ],
   "source": [
    "nonintersecting = catalog[intersects==False]\n",
    "intersecting = catalog[intersects==True]\n",
    "nonintersecting.head()"
   ]
  },
  {
   "cell_type": "markdown",
   "metadata": {},
   "source": [
    "# Draw some nonintesecting"
   ]
  },
  {
   "cell_type": "code",
   "execution_count": 13,
   "metadata": {},
   "outputs": [],
   "source": [
    "ns_subset = nonintersecting.iloc[0:50].copy()\n",
    "trixels = ns_subset.trixels(n_workers=5)\n",
    "ns_subset.set_trixels(trixels, inplace=True)"
   ]
  },
  {
   "cell_type": "code",
   "execution_count": 14,
   "metadata": {},
   "outputs": [],
   "source": [
    "is_subset = intersecting.iloc[0:50].copy()\n",
    "trixels = is_subset.trixels(n_workers=5)\n",
    "is_subset.set_trixels(trixels, inplace=True)"
   ]
  },
  {
   "cell_type": "code",
   "execution_count": null,
   "metadata": {},
   "outputs": [],
   "source": [
    "caribbean = geopandas.read_file('study_area_fao_clean_210326.gpkg')"
   ]
  },
  {
   "cell_type": "code",
   "execution_count": null,
   "metadata": {},
   "outputs": [],
   "source": [
    "fig, ax = plt.subplots(figsize=(6,6), dpi=300)\n",
    "ax.grid(True)\n",
    "\n",
    "is_subset.plot(ax=ax, trixels=True, boundary=False, linewidth=0.1, color='g')\n",
    "ns_subset.plot(ax=ax, trixels=True, boundary=False, linewidth=0.1, color='r')\n",
    "caribbean.plot(ax=ax)"
   ]
  },
  {
   "cell_type": "markdown",
   "metadata": {},
   "source": [
    "# Calculate runtime"
   ]
  },
  {
   "cell_type": "code",
   "execution_count": 22,
   "metadata": {},
   "outputs": [],
   "source": [
    "def paths2timestamps(granule_paths):\n",
    "    timestamps = []\n",
    "    for granule_path in granule_paths:\n",
    "        path_parts = granule_path.split('/')\n",
    "        name = path_parts[4]\n",
    "        parts = name.split(\".\")\n",
    "        date = parts[1]\n",
    "        time = parts[2]\n",
    "        timestamp = date+ '.' + time\n",
    "        timestamps.append(timestamp)\n",
    "    return timestamps\n",
    "        \n",
    "\n",
    "def paths2names(granule_paths):\n",
    "    granule_names = []    \n",
    "    for granule_path in granule_paths:\n",
    "        path_parts = granule_path.split('/')\n",
    "        name = path_parts[4]\n",
    "        granule_names.append(name)\n",
    "    return granule_names\n",
    "        \n",
    "\n",
    "def find_non_intersecting(catalog, cover, n_workers):   \n",
    "    intersects = catalog.stare_intersects(cover, n_workers=n_workers)\n",
    "    non_intersecting = catalog[intersects==False]    \n",
    "    return non_intersecting\n",
    "\n",
    "def find_interseting(catalog, cover, n_workers):\n",
    "    intersects = catalog.stare_intersects(cover, n_workers=n_workers)\n",
    "    intersecting = catalog[intersects==True]    \n",
    "    return intersecting  "
   ]
  },
  {
   "cell_type": "code",
   "execution_count": 23,
   "metadata": {},
   "outputs": [],
   "source": [
    "def load_catalog(catalog_name):    \n",
    "    catalog = pandas.read_pickle('catalogs/catalog_vj103.pickle') \n",
    "    return catalog\n",
    "\n",
    "def load_cover(cover_level):\n",
    "    cover_path = 'covers/caribbean_sids_cover_l{}.pickle'.format(cover_level)\n",
    "    with open(cover_path, 'rb') as f:\n",
    "        cover_sids = pickle.load(f)\n",
    "    return cover_sids"
   ]
  },
  {
   "cell_type": "code",
   "execution_count": 24,
   "metadata": {},
   "outputs": [],
   "source": [
    "level = 10\n",
    "\n",
    "def subset_catalog(catalog_name, level):\n",
    "    catalog = load_catalog(catalog_name)\n",
    "    cover = load_cover(cover_level=level)\n",
    "    start = datetime.datetime.now()\n",
    "\n",
    "    intersecting = find_intersecting(catalog, cover, 60)\n",
    "\n",
    "    duration = datetime.datetime.now() - start\n",
    "    print('Duration for level {level} was {duration}'.format(level=level, duration=duration))\n",
    "   \n",
    "    pickle_name = '{catalog_name}_intersecting.pickle'.format(catalog_name=catalog_name.split('.')[0])\n",
    "    intersecting.to_pickle(pickle_name)\n",
    "    \n",
    "    \n",
    "subset_catalog('cldmsk_noaa_20', level)"
   ]
  },
  {
   "cell_type": "markdown",
   "metadata": {},
   "source": [
    "# Runtime \n",
    "cldmsk_noaa_20 has 9302 files \\\n",
    "Level 10: 20 seconds \\\n",
    "Level 11: 30 seconds \\\n",
    "Level 12: 50 seconds \\\n",
    "Level 13: 97 seconds \\\n",
    "Level 14: 198 seconds \\\n",
    "Level 15: 450 seconds "
   ]
  },
  {
   "cell_type": "markdown",
   "metadata": {},
   "source": [
    "# Find nonintersecting"
   ]
  },
  {
   "cell_type": "markdown",
   "metadata": {},
   "source": [
    "## CLDMSK NOAA20"
   ]
  },
  {
   "cell_type": "code",
   "execution_count": 19,
   "metadata": {},
   "outputs": [],
   "source": [
    "catalog = pandas.read_pickle('catalogs/cldmsk_noaa20.pickle')\n",
    "intersects = catalog.stare_intersects(cover_sids, n_workers=60)\n",
    "cldmsk_noaa20_ni = catalog[intersects==False]\n",
    "cldmsk_noaa20_is = catalog[intersects==True]\n",
    "\n",
    "cldmsk_noaa20_ni.to_pickle('catalogs/cldmsk_noaa20_nonintersecting.pickle')\n",
    "cldmsk_noaa20_is.to_pickle('catalogs/cldmsk_noaa20_intersecting.pickle')"
   ]
  },
  {
   "cell_type": "markdown",
   "metadata": {},
   "source": [
    "## CLDMSK SNPP"
   ]
  },
  {
   "cell_type": "code",
   "execution_count": 20,
   "metadata": {},
   "outputs": [],
   "source": [
    "catalog = pandas.read_pickle('catalogs/cldmsk_snpp.pickle')\n",
    "intersects = catalog.stare_intersects(cover_sids, n_workers=60)\n",
    "cldmsk_snpp_ni = catalog[intersects==False]\n",
    "cldmsk_snpp_is = catalog[intersects==True]\n",
    "\n",
    "cldmsk_snpp_ni.to_pickle('catalogs/cldmsk_snpp_nonintersecting.pickle')\n",
    "cldmsk_snpp_is.to_pickle('catalogs/cldmsk_snpp_intersecting.pickle')"
   ]
  },
  {
   "cell_type": "markdown",
   "metadata": {},
   "source": [
    "## VJ103DNB"
   ]
  },
  {
   "cell_type": "code",
   "execution_count": 21,
   "metadata": {},
   "outputs": [],
   "source": [
    "catalog = pandas.read_pickle('catalogs/vj103.pickle')\n",
    "intersects = catalog.stare_intersects(cover_sids, n_workers=60)\n",
    "vj103_ni = catalog[intersects==False]\n",
    "vj103_is = catalog[intersects==True]\n",
    "\n",
    "vj103_ni.to_pickle('catalogs/vj103_nonintersecting.pickle')\n",
    "vj103_is.to_pickle('catalogs/vj103_intersecting.pickle')"
   ]
  },
  {
   "cell_type": "markdown",
   "metadata": {},
   "source": [
    "## VNP03DNB"
   ]
  },
  {
   "cell_type": "code",
   "execution_count": null,
   "metadata": {},
   "outputs": [],
   "source": [
    "catalog = pandas.read_pickle('catalogs/vnp03.pickle')\n",
    "intersects = catalog.stare_intersects(cover_sids, n_workers=60)\n",
    "vnp03_ni = catalog[intersects==False]\n",
    "vnp03_is = catalog[intersects==True]\n",
    "\n",
    "vnp03_ni.to_pickle('catalogs/vnp03_nonintersecting.pickle')\n",
    "vnp03_is.to_pickle('catalogs/vnp03_intersecting.pickle')"
   ]
  },
  {
   "cell_type": "markdown",
   "metadata": {},
   "source": [
    "# Move granules"
   ]
  },
  {
   "cell_type": "code",
   "execution_count": 40,
   "metadata": {},
   "outputs": [],
   "source": [
    "granule_paths = nonintersecting['granule_path']\n",
    "vnp02_paths = []\n",
    "for granule_path in granule_paths:\n",
    "    vnp02_path = starepandas.guess_companion_path(granule_path, \n",
    "                                                  prefix='VNP02DNB', \n",
    "                                                  folder='/tablespace/caribbean/VNP02DNB/')\n",
    "    vnp02_paths.append(vnp02_path)\n",
    "vnp02_paths = pandas.Series(vnp02_paths)"
   ]
  },
  {
   "cell_type": "code",
   "execution_count": null,
   "metadata": {},
   "outputs": [],
   "source": [
    "def mv_granules(nonintersecting_catalog, dest_folder, companion_folder, companion_prefix):\n",
    "    pass"
   ]
  }
 ],
 "metadata": {
  "kernelspec": {
   "display_name": "Python 3",
   "language": "python",
   "name": "python3"
  },
  "language_info": {
   "codemirror_mode": {
    "name": "ipython",
    "version": 3
   },
   "file_extension": ".py",
   "mimetype": "text/x-python",
   "name": "python",
   "nbconvert_exporter": "python",
   "pygments_lexer": "ipython3",
   "version": "3.6.8"
  }
 },
 "nbformat": 4,
 "nbformat_minor": 4
}
